{
 "cells": [
  {
   "cell_type": "code",
   "execution_count": 7,
   "metadata": {},
   "outputs": [],
   "source": [
    "import requests \n",
    "import re\n",
    "import pandas as pd\n",
    "import datetime"
   ]
  },
  {
   "cell_type": "code",
   "execution_count": 2,
   "metadata": {},
   "outputs": [
    {
     "data": {
      "text/plain": [
       "dict_keys(['GISC Beijing [CN]', 'GISC Brasilia [BR]', 'GISC Casablanca [MA]', 'GISC Exeter [GB]', 'GISC Melbourne [AU]', 'GISC Moscow [RU]', 'GISC Offenbach [DE]', 'GISC Seoul [KR]', 'GISC Tokyo [JP]', 'GISC Toulouse [FR]'])"
      ]
     },
     "execution_count": 2,
     "metadata": {},
     "output_type": "execute_result"
    }
   ],
   "source": [
    "giscs = requests.get(\"https://www.wis-jma.go.jp/wcd/v1/json/accessibleMonitorJsonURL.json\").json()\n",
    "giscs = giscs.keys()\n",
    "giscs"
   ]
  },
  {
   "cell_type": "code",
   "execution_count": 3,
   "metadata": {},
   "outputs": [
    {
     "data": {
      "text/plain": [
       "['GISC-Beijing-[CN]',\n",
       " 'GISC-Brasilia-[BR]',\n",
       " 'GISC-Casablanca-[MA]',\n",
       " 'GISC-Exeter-[GB]',\n",
       " 'GISC-Melbourne-[AU]',\n",
       " 'GISC-Moscow-[RU]',\n",
       " 'GISC-Offenbach-[DE]',\n",
       " 'GISC-Seoul-[KR]',\n",
       " 'GISC-Tokyo-[JP]',\n",
       " 'GISC-Toulouse-[FR]']"
      ]
     },
     "execution_count": 3,
     "metadata": {},
     "output_type": "execute_result"
    }
   ],
   "source": [
    "def toURL(s):\n",
    "    s = s.replace(\" \",\"-\")\n",
    "\n",
    "    return s\n",
    "\n",
    "giscs = [ toURL(g)  for g in giscs]\n",
    "giscs"
   ]
  },
  {
   "cell_type": "code",
   "execution_count": 4,
   "metadata": {},
   "outputs": [],
   "source": [
    "def get_nc_dataseries(nc):\n",
    "    m = re.search(r'\\[(\\w{2})\\].txt',nc)\n",
    "    \n",
    "    if m:\n",
    "        iso2 = m.group(1)\n",
    "    else:\n",
    "        tmp = nc.split(\"_\")\n",
    "        iso2 = tmp[-1].replace(\".txt\",\"\")\n",
    "    \n",
    "    df = pd.read_csv(nc,header=None)\n",
    "    df.columns = [\"date\",\"nr_data_and_products\",\"size_data_products\",\"nr_data_products_missing_md\",\"size_data_products_missing_md\",\"nr_metadata_unique_products_missing_md\",\"nr_metadata_unique_products\"]\n",
    "    df[\"iso2\"]=iso2\n",
    "    \n",
    "    return df\n",
    "    \n",
    "#get_nc_dataseries(\"https://www.wis-jma.go.jp/wcd/v1/json/timeplot_GISC-Offenbach-[DE]_Kenya-[KE].txt\")\n",
    "#get_nc_dataseries(\"https://www.wis-jma.go.jp/wcd/v1/json/timeplot_GISC-Exeter-[GB]_United-Kingdom.txt\")"
   ]
  },
  {
   "cell_type": "code",
   "execution_count": 5,
   "metadata": {},
   "outputs": [
    {
     "name": "stdout",
     "output_type": "stream",
     "text": [
      "https://www.wis-jma.go.jp/wcd/v1/json/timeplot_GISC-Beijing-[CN]_NC-NMC-[PK].txt\n",
      "https://www.wis-jma.go.jp/wcd/v1/json/timeplot_GISC-Beijing-[CN]_NC-NMC-[CN].txt\n",
      "https://www.wis-jma.go.jp/wcd/v1/json/timeplot_GISC-Beijing-[CN]_NC-NMC-[KP].txt\n",
      "https://www.wis-jma.go.jp/wcd/v1/json/timeplot_GISC-Beijing-[CN]_NC-NMC-[HK].txt\n",
      "https://www.wis-jma.go.jp/wcd/v1/json/timeplot_GISC-Beijing-[CN]_NC-WSO-[MO].txt\n",
      "https://www.wis-jma.go.jp/wcd/v1/json/timeplot_GISC-Beijing-[CN]_NC-NMC-[MN].txt\n",
      "https://www.wis-jma.go.jp/wcd/v1/json/timeplot_GISC-Beijing-[CN]_NC-NMC-[NP].txt\n",
      "https://www.wis-jma.go.jp/wcd/v1/json/timeplot_GISC-Exeter-[GB]_United-Kingdom.txt\n",
      "https://www.wis-jma.go.jp/wcd/v1/json/timeplot_GISC-Exeter-[GB]_Iceland.txt\n",
      "https://www.wis-jma.go.jp/wcd/v1/json/timeplot_GISC-Exeter-[GB]_Tanzania.txt\n",
      "https://www.wis-jma.go.jp/wcd/v1/json/timeplot_GISC-Exeter-[GB]_Netherlands.txt\n",
      "https://www.wis-jma.go.jp/wcd/v1/json/timeplot_GISC-Exeter-[GB]_Ireland.txt\n",
      "https://www.wis-jma.go.jp/wcd/v1/json/timeplot_GISC-Melbourne-[AU]_NC-NMC-[CK].txt\n",
      "https://www.wis-jma.go.jp/wcd/v1/json/timeplot_GISC-Melbourne-[AU]_NC-NMC-[PG].txt\n",
      "https://www.wis-jma.go.jp/wcd/v1/json/timeplot_GISC-Melbourne-[AU]_NC-NMC-[WS].txt\n",
      "https://www.wis-jma.go.jp/wcd/v1/json/timeplot_GISC-Melbourne-[AU]_NC-NMC-(Phoenix-Islands)-[KI].txt\n",
      "https://www.wis-jma.go.jp/wcd/v1/json/timeplot_GISC-Melbourne-[AU]_NC-NMC-[SG].txt\n",
      "https://www.wis-jma.go.jp/wcd/v1/json/timeplot_GISC-Melbourne-[AU]_DCPC-RTH-(Wellington)-[NZ].txt\n",
      "https://www.wis-jma.go.jp/wcd/v1/json/timeplot_GISC-Melbourne-[AU]_NC-NMC-[FJ].txt\n",
      "https://www.wis-jma.go.jp/wcd/v1/json/timeplot_GISC-Melbourne-[AU]_NC-NMC-[TV].txt\n",
      "https://www.wis-jma.go.jp/wcd/v1/json/timeplot_GISC-Melbourne-[AU]_NC-NMC-[VU].txt\n",
      "https://www.wis-jma.go.jp/wcd/v1/json/timeplot_GISC-Melbourne-[AU]_NC-NMC-[PH].txt\n",
      "https://www.wis-jma.go.jp/wcd/v1/json/timeplot_GISC-Melbourne-[AU]_NC-NMC-[SB].txt\n",
      "https://www.wis-jma.go.jp/wcd/v1/json/timeplot_GISC-Melbourne-[AU]_DCPC-WMC-(Melbourne)-[AU].txt\n",
      "https://www.wis-jma.go.jp/wcd/v1/json/timeplot_GISC-Melbourne-[AU]_NC-NMC-[PF].txt\n",
      "https://www.wis-jma.go.jp/wcd/v1/json/timeplot_GISC-Melbourne-[AU]_NC-NMC-[ID].txt\n",
      "https://www.wis-jma.go.jp/wcd/v1/json/timeplot_GISC-Melbourne-[AU]_NC-NMC-[MY].txt\n",
      "https://www.wis-jma.go.jp/wcd/v1/json/timeplot_GISC-Melbourne-[AU]_NC-NMC-[NC].txt\n",
      "https://www.wis-jma.go.jp/wcd/v1/json/timeplot_GISC-Melbourne-[AU]_NC-NMC-[BN].txt\n",
      "https://www.wis-jma.go.jp/wcd/v1/json/timeplot_GISC-Melbourne-[AU]_NC-NMC-[TO].txt\n",
      "https://www.wis-jma.go.jp/wcd/v1/json/timeplot_GISC-Moscow-[RU]_NC-Armenia-[AM].txt\n",
      "https://www.wis-jma.go.jp/wcd/v1/json/timeplot_GISC-Moscow-[RU]_NC-Azerbaijan-[AZ].txt\n",
      "https://www.wis-jma.go.jp/wcd/v1/json/timeplot_GISC-Moscow-[RU]_NC-Belarus-[BY].txt\n",
      "https://www.wis-jma.go.jp/wcd/v1/json/timeplot_GISC-Moscow-[RU]_NC-Georgia-[GE].txt\n",
      "https://www.wis-jma.go.jp/wcd/v1/json/timeplot_GISC-Moscow-[RU]_NC-Kazakhstan-[KZ].txt\n",
      "https://www.wis-jma.go.jp/wcd/v1/json/timeplot_GISC-Moscow-[RU]_NC-Kyrgyzstan-[KG].txt\n",
      "https://www.wis-jma.go.jp/wcd/v1/json/timeplot_GISC-Moscow-[RU]_NC-Republic-of-Moldova-[MD].txt\n",
      "https://www.wis-jma.go.jp/wcd/v1/json/timeplot_GISC-Moscow-[RU]_NC-Tajikistan-[TJ].txt\n",
      "https://www.wis-jma.go.jp/wcd/v1/json/timeplot_GISC-Moscow-[RU]_NC-Turkmenistan-[TM].txt\n",
      "https://www.wis-jma.go.jp/wcd/v1/json/timeplot_GISC-Moscow-[RU]_NC-Ukraine-[UA].txt\n",
      "https://www.wis-jma.go.jp/wcd/v1/json/timeplot_GISC-Moscow-[RU]_NC-Uzbekistan-[UZ].txt\n",
      "https://www.wis-jma.go.jp/wcd/v1/json/timeplot_GISC-Moscow-[RU]_GISC-Russian-Federation-[RU].txt\n",
      "https://www.wis-jma.go.jp/wcd/v1/json/timeplot_GISC-Offenbach-[DE]_Austria-[AT].txt\n",
      "https://www.wis-jma.go.jp/wcd/v1/json/timeplot_GISC-Offenbach-[DE]_Bosnia-and-Herzegovina-[BA].txt\n",
      "https://www.wis-jma.go.jp/wcd/v1/json/timeplot_GISC-Offenbach-[DE]_Bulgaria-[BG].txt\n",
      "https://www.wis-jma.go.jp/wcd/v1/json/timeplot_GISC-Offenbach-[DE]_Croatia-[HR].txt\n",
      "https://www.wis-jma.go.jp/wcd/v1/json/timeplot_GISC-Offenbach-[DE]_Cyprus-[CY].txt\n",
      "https://www.wis-jma.go.jp/wcd/v1/json/timeplot_GISC-Offenbach-[DE]_Czech-Republic-[CZ].txt\n",
      "https://www.wis-jma.go.jp/wcd/v1/json/timeplot_GISC-Offenbach-[DE]_Denmark-[DK].txt\n",
      "https://www.wis-jma.go.jp/wcd/v1/json/timeplot_GISC-Offenbach-[DE]_Estonia-[EE].txt\n",
      "https://www.wis-jma.go.jp/wcd/v1/json/timeplot_GISC-Offenbach-[DE]_Finland-[FI].txt\n",
      "https://www.wis-jma.go.jp/wcd/v1/json/timeplot_GISC-Offenbach-[DE]_Germany-[DE].txt\n",
      "https://www.wis-jma.go.jp/wcd/v1/json/timeplot_GISC-Offenbach-[DE]_Greece-[GR].txt\n",
      "https://www.wis-jma.go.jp/wcd/v1/json/timeplot_GISC-Offenbach-[DE]_Greenland-[GL].txt\n",
      "https://www.wis-jma.go.jp/wcd/v1/json/timeplot_GISC-Offenbach-[DE]_Hungary-[HU].txt\n",
      "https://www.wis-jma.go.jp/wcd/v1/json/timeplot_GISC-Offenbach-[DE]_Israel-[IL].txt\n",
      "https://www.wis-jma.go.jp/wcd/v1/json/timeplot_GISC-Offenbach-[DE]_Italy-[IT].txt\n",
      "https://www.wis-jma.go.jp/wcd/v1/json/timeplot_GISC-Offenbach-[DE]_Jordan-[JO].txt\n",
      "https://www.wis-jma.go.jp/wcd/v1/json/timeplot_GISC-Offenbach-[DE]_Kenya-[KE].txt\n",
      "https://www.wis-jma.go.jp/wcd/v1/json/timeplot_GISC-Offenbach-[DE]_Latvia-[LV].txt\n",
      "https://www.wis-jma.go.jp/wcd/v1/json/timeplot_GISC-Offenbach-[DE]_Lithuania-[LT].txt\n",
      "https://www.wis-jma.go.jp/wcd/v1/json/timeplot_GISC-Offenbach-[DE]_Montenegro-[ME].txt\n",
      "https://www.wis-jma.go.jp/wcd/v1/json/timeplot_GISC-Offenbach-[DE]_Norway-[NO].txt\n",
      "https://www.wis-jma.go.jp/wcd/v1/json/timeplot_GISC-Offenbach-[DE]_Poland-[PL].txt\n",
      "https://www.wis-jma.go.jp/wcd/v1/json/timeplot_GISC-Offenbach-[DE]_Romania-[RO].txt\n",
      "https://www.wis-jma.go.jp/wcd/v1/json/timeplot_GISC-Offenbach-[DE]_Serbia-[RS].txt\n",
      "https://www.wis-jma.go.jp/wcd/v1/json/timeplot_GISC-Offenbach-[DE]_Slovakia-[SK].txt\n",
      "https://www.wis-jma.go.jp/wcd/v1/json/timeplot_GISC-Offenbach-[DE]_Slovenia-[SI].txt\n",
      "https://www.wis-jma.go.jp/wcd/v1/json/timeplot_GISC-Offenbach-[DE]_Sweden-[SE].txt\n",
      "https://www.wis-jma.go.jp/wcd/v1/json/timeplot_GISC-Offenbach-[DE]_Switzerland-[CH].txt\n",
      "https://www.wis-jma.go.jp/wcd/v1/json/timeplot_GISC-Offenbach-[DE]_The-former-Yugoslav-Republic-of-Macedonia-[MK].txt\n",
      "https://www.wis-jma.go.jp/wcd/v1/json/timeplot_GISC-Offenbach-[DE]_Turkey-[TR].txt\n",
      "https://www.wis-jma.go.jp/wcd/v1/json/timeplot_GISC-Seoul-[KR]_Republic-of-Korea-[KR].txt\n",
      "https://www.wis-jma.go.jp/wcd/v1/json/timeplot_GISC-Tokyo-[JP]_DCPC-NICT-(Space-Weather)-[JP].txt\n",
      "https://www.wis-jma.go.jp/wcd/v1/json/timeplot_GISC-Tokyo-[JP]_NC-NMC-[PH].txt\n",
      "https://www.wis-jma.go.jp/wcd/v1/json/timeplot_GISC-Tokyo-[JP]_NC-NMC-[TH].txt\n",
      "https://www.wis-jma.go.jp/wcd/v1/json/timeplot_GISC-Tokyo-[JP]_NC-NMC-[MM].txt\n",
      "https://www.wis-jma.go.jp/wcd/v1/json/timeplot_GISC-Tokyo-[JP]_NC-NMC-[KH].txt\n",
      "https://www.wis-jma.go.jp/wcd/v1/json/timeplot_GISC-Tokyo-[JP]_NC-NMC-[LA].txt\n",
      "https://www.wis-jma.go.jp/wcd/v1/json/timeplot_GISC-Tokyo-[JP]_NC-NMC-[VN].txt\n",
      "https://www.wis-jma.go.jp/wcd/v1/json/timeplot_GISC-Toulouse-[FR]_NC-NMC-[DZ].txt\n",
      "https://www.wis-jma.go.jp/wcd/v1/json/timeplot_GISC-Toulouse-[FR]_NC-NMC-[PT].txt\n",
      "https://www.wis-jma.go.jp/wcd/v1/json/timeplot_GISC-Toulouse-[FR]_NC-NMC-[BE].txt\n",
      "https://www.wis-jma.go.jp/wcd/v1/json/timeplot_GISC-Toulouse-[FR]_NC-NMC-[TN].txt\n",
      "https://www.wis-jma.go.jp/wcd/v1/json/timeplot_GISC-Toulouse-[FR]_NC-NMC-[ES].txt\n",
      "https://www.wis-jma.go.jp/wcd/v1/json/timeplot_GISC-Toulouse-[FR]_GISC-Toulouse-[FR].txt\n"
     ]
    }
   ],
   "source": [
    "#https://www.wis-jma.go.jp/wcd/v1/json/GISC-Beijing-[CN]_cache.json\n",
    "first = True\n",
    "for g in giscs:\n",
    "    \n",
    "    url = \"https://www.wis-jma.go.jp/wcd/v1/json/{gisc}_cache.json\".format(gisc=g)\n",
    "    r = requests.get(url)\n",
    "    \n",
    "    aor = r.json()\n",
    "    \n",
    "    for c in aor[\"centres\"]:\n",
    "        \n",
    "        centre = c[\"centre\"].replace(\" \",\"-\")\n",
    "        \n",
    "        #https://www.wis-jma.go.jp/wcd/v1/json/timeplot_GISC-Offenbach-[DE]_Kenya-[KE].txt\n",
    "        url2 = \"https://www.wis-jma.go.jp/wcd/v1/json/timeplot_{gisc}_{nc}.txt\".format(gisc=g,nc=centre)\n",
    "        \n",
    "        print(url2)\n",
    "        tmp = get_nc_dataseries(url2)\n",
    "        \n",
    "        if first:\n",
    "            df = tmp\n",
    "        else:\n",
    "            df = pd.concat([df,tmp])\n",
    "\n",
    "        first=False"
   ]
  },
  {
   "cell_type": "code",
   "execution_count": 11,
   "metadata": {},
   "outputs": [],
   "source": [
    "df.to_csv(\"jma-nc-monitoring_{}.csv\".format(datetime.datetime.now().date()),sep=\";\",index=False)"
   ]
  },
  {
   "cell_type": "code",
   "execution_count": null,
   "metadata": {},
   "outputs": [],
   "source": []
  }
 ],
 "metadata": {
  "kernelspec": {
   "display_name": "Python 3",
   "language": "python",
   "name": "python3"
  },
  "language_info": {
   "codemirror_mode": {
    "name": "ipython",
    "version": 3
   },
   "file_extension": ".py",
   "mimetype": "text/x-python",
   "name": "python",
   "nbconvert_exporter": "python",
   "pygments_lexer": "ipython3",
   "version": "3.7.7"
  }
 },
 "nbformat": 4,
 "nbformat_minor": 4
}

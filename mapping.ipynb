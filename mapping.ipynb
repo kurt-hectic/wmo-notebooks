{
 "cells": [
  {
   "cell_type": "code",
   "execution_count": 21,
   "metadata": {},
   "outputs": [],
   "source": [
    "import requests\n",
    "import json\n",
    "import re"
   ]
  },
  {
   "cell_type": "code",
   "execution_count": 22,
   "metadata": {},
   "outputs": [],
   "source": [
    "url = 'https://oscar.wmo.int/surface/rest/api/search/station?facilityType=seaFixed,lakeRiverFixed,lakeRiverMobile,landFixed,landMobile,landOnIce,airFixed'"
   ]
  },
  {
   "cell_type": "code",
   "execution_count": 23,
   "metadata": {},
   "outputs": [],
   "source": [
    "response = requests.get(url)"
   ]
  },
  {
   "cell_type": "code",
   "execution_count": 26,
   "metadata": {},
   "outputs": [
    {
     "name": "stdout",
     "output_type": "stream",
     "text": [
      "invalid format: {'wigosStationIdentifier': '41247', 'primary': True} not enough values to unpack (expected 4, got 1)\n",
      "invalid format: {'wigosStationIdentifier': '17608', 'primary': True} not enough values to unpack (expected 4, got 1)\n",
      "invalid format: {'wigosStationIdentifier': '17602', 'primary': True} not enough values to unpack (expected 4, got 1)\n",
      "invalid format: {'wigosStationIdentifier': '16724', 'primary': True} not enough values to unpack (expected 4, got 1)\n",
      "invalid format: {'wigosStationIdentifier': '16739', 'primary': True} not enough values to unpack (expected 4, got 1)\n",
      "invalid format: {'wigosStationIdentifier': '16840', 'primary': True} not enough values to unpack (expected 4, got 1)\n",
      "invalid format: {'wigosStationIdentifier': '16779', 'primary': True} not enough values to unpack (expected 4, got 1)\n",
      "invalid format: {'wigosStationIdentifier': '16770', 'primary': True} not enough values to unpack (expected 4, got 1)\n",
      "invalid format: {'wigosStationIdentifier': '16628', 'primary': True} not enough values to unpack (expected 4, got 1)\n",
      "invalid format: {'wigosStationIdentifier': '16750', 'primary': True} not enough values to unpack (expected 4, got 1)\n",
      "invalid format: {'wigosStationIdentifier': '16766', 'primary': True} not enough values to unpack (expected 4, got 1)\n",
      "invalid format: {'wigosStationIdentifier': '16774', 'primary': True} not enough values to unpack (expected 4, got 1)\n",
      "invalid format: {'wigosStationIdentifier': '72388', 'primary': True} not enough values to unpack (expected 4, got 1)\n"
     ]
    }
   ],
   "source": [
    "with open(\"mapping.txt\",\"w\") as f:\n",
    "\n",
    "    for station in response.json():\n",
    "        if not 'wigosStationIdentifiers' in station:\n",
    "            continue\n",
    "\n",
    "        wigos_ids = station['wigosStationIdentifiers']\n",
    "        for wigos_id in wigos_ids:\n",
    "            if not 'wigosStationIdentifier' in wigos_id:\n",
    "                continue\n",
    "\n",
    "            try:\n",
    "                (series,issuer,number,localid) = wigos_id['wigosStationIdentifier'].split('-')\n",
    "            except Exception as e:\n",
    "                print(\"invalid format: {} {}\".format(wigos_id,e))\n",
    "                continue\n",
    "\n",
    "            if issuer in ('20000','200001'):\n",
    "                f.write(\"{},{},{},{}\".format(localid,wigos_id['wigosStationIdentifier'],station['latitude'],station['longitude']  ))\n",
    "                f.write(\"\\n\")\n",
    "    "
   ]
  },
  {
   "cell_type": "code",
   "execution_count": null,
   "metadata": {},
   "outputs": [],
   "source": []
  }
 ],
 "metadata": {
  "kernelspec": {
   "display_name": "Python 3",
   "language": "python",
   "name": "python3"
  },
  "language_info": {
   "codemirror_mode": {
    "name": "ipython",
    "version": 3
   },
   "file_extension": ".py",
   "mimetype": "text/x-python",
   "name": "python",
   "nbconvert_exporter": "python",
   "pygments_lexer": "ipython3",
   "version": "3.7.3"
  }
 },
 "nbformat": 4,
 "nbformat_minor": 2
}

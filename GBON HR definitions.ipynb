{
 "cells": [
  {
   "cell_type": "code",
   "execution_count": 9,
   "metadata": {},
   "outputs": [],
   "source": [
    "# first we import the libraries we will be working with \n",
    "import json\n",
    "import geoplot\n",
    "import numpy as np\n",
    "import pyproj\n",
    "import json\n",
    "import requests\n",
    "\n",
    "import warnings\n",
    "warnings.simplefilter(action='ignore', category=FutureWarning)\n",
    "\n",
    "import matplotlib.pyplot as plt\n",
    "import pandas as pd\n",
    "import geopandas as gpd\n",
    "\n",
    "from functools import partial\n",
    "from shapely.ops import transform\n",
    "from io import StringIO\n",
    "from shapely.geometry import Point, Polygon, mapping\n",
    "\n",
    "import os,sys\n",
    "\n",
    "%matplotlib inline"
   ]
  },
  {
   "cell_type": "code",
   "execution_count": 10,
   "metadata": {},
   "outputs": [],
   "source": [
    "datadir = r\"C:\\Users\\Timo\\AppData\\Local\\Temp\\GBON-data\"\n",
    "\n",
    "if not os.path.isdir(datadir):\n",
    "    print(\"warning.. download data from https://wmoomm.sharepoint.com/:u:/s/Infrastructure/EawQ6kHroZpBq8inrzDbmikBkjCSa1sP--bRpRU117TfbA?e=Fny7CU\")\n",
    "    sys.exit(1)\n",
    "    \n",
    "def make_grid(length=10,width=10):\n",
    "    xmin,ymin,xmax,ymax = (-180,-90,180,90)\n",
    "\n",
    "    cols = list(range(int(np.floor(xmin)), int(np.ceil(xmax)), width))\n",
    "    rows = list(range(int(np.floor(ymin)), int(np.ceil(ymax)), length))\n",
    "    rows.reverse()\n",
    "\n",
    "    polygons = []\n",
    "    for x in cols:\n",
    "        for y in rows:\n",
    "            polygons.append( Polygon([(x,y), (x+width, y), (x+width, y-length), (x, y-length)]) )\n",
    "\n",
    "    grid = gpd.GeoDataFrame({'geometry':polygons})\n",
    "    #grid.crs = {'init' :'epsg:4326'}  \n",
    "    grid.crs = \"epsg:4326\"\n",
    "    \n",
    "    return grid"
   ]
  },
  {
   "cell_type": "code",
   "execution_count": 3,
   "metadata": {},
   "outputs": [
    {
     "data": {
      "text/html": [
       "<div>\n",
       "<style scoped>\n",
       "    .dataframe tbody tr th:only-of-type {\n",
       "        vertical-align: middle;\n",
       "    }\n",
       "\n",
       "    .dataframe tbody tr th {\n",
       "        vertical-align: top;\n",
       "    }\n",
       "\n",
       "    .dataframe thead th {\n",
       "        text-align: right;\n",
       "    }\n",
       "</style>\n",
       "<table border=\"1\" class=\"dataframe\">\n",
       "  <thead>\n",
       "    <tr style=\"text-align: right;\">\n",
       "      <th></th>\n",
       "      <th>STATUS</th>\n",
       "      <th>TERR_NAME</th>\n",
       "      <th>POL_C_CODE</th>\n",
       "      <th>ABBREV</th>\n",
       "      <th>SHORT_NAME</th>\n",
       "      <th>ISO_2_CODE</th>\n",
       "      <th>LABELRANK</th>\n",
       "      <th>geometry</th>\n",
       "    </tr>\n",
       "  </thead>\n",
       "  <tbody>\n",
       "    <tr>\n",
       "      <th>0</th>\n",
       "      <td>WMO Member</td>\n",
       "      <td>Afghanistan</td>\n",
       "      <td>AFG</td>\n",
       "      <td>Afg.</td>\n",
       "      <td>Afghanistan</td>\n",
       "      <td>AF</td>\n",
       "      <td>2.0</td>\n",
       "      <td>POLYGON ((71.26610 37.98232, 71.25214 37.92794...</td>\n",
       "    </tr>\n",
       "    <tr>\n",
       "      <th>1</th>\n",
       "      <td>WMO Member</td>\n",
       "      <td>Angola</td>\n",
       "      <td>AGO</td>\n",
       "      <td>Ang.</td>\n",
       "      <td>Angola</td>\n",
       "      <td>AO</td>\n",
       "      <td>2.0</td>\n",
       "      <td>MULTIPOLYGON (((13.99750 -5.84861, 14.08028 -5...</td>\n",
       "    </tr>\n",
       "  </tbody>\n",
       "</table>\n",
       "</div>"
      ],
      "text/plain": [
       "       STATUS    TERR_NAME POL_C_CODE ABBREV   SHORT_NAME ISO_2_CODE  \\\n",
       "0  WMO Member  Afghanistan        AFG   Afg.  Afghanistan         AF   \n",
       "1  WMO Member       Angola        AGO   Ang.       Angola         AO   \n",
       "\n",
       "   LABELRANK                                           geometry  \n",
       "0        2.0  POLYGON ((71.26610 37.98232, 71.25214 37.92794...  \n",
       "1        2.0  MULTIPOLYGON (((13.99750 -5.84861, 14.08028 -5...  "
      ]
     },
     "execution_count": 3,
     "metadata": {},
     "output_type": "execute_result"
    }
   ],
   "source": [
    "world_shapefile = os.path.join( datadir , \"WMO/WMO_basemap.shp\" )\n",
    "\n",
    "gdf_world = gpd.read_file( world_shapefile )\n",
    "gdf_world.crs = \"epsg:4326\"\n",
    "gdf_world=gdf_world\n",
    "gdf_world.head(2)"
   ]
  },
  {
   "cell_type": "code",
   "execution_count": 4,
   "metadata": {},
   "outputs": [
    {
     "data": {
      "text/plain": [
       "64800"
      ]
     },
     "execution_count": 4,
     "metadata": {},
     "output_type": "execute_result"
    }
   ],
   "source": [
    "grid = make_grid(width=1,length=1)\n",
    "len(grid)"
   ]
  },
  {
   "cell_type": "code",
   "execution_count": 5,
   "metadata": {},
   "outputs": [],
   "source": [
    "# EEZs and inland waters\n",
    "gdf_eez = gpd.read_file(os.path.join( datadir , 'EEZ/eez_v10.shp') )\n",
    "gdf_inland_water = gpd.read_file(os.path.join( datadir , 'EEZ/eez_internal_waters_v2.shp') )\n",
    "\n",
    "gdf_eez=gdf_eez[gdf_eez[\"Pol_type\"]=='200NM'] # remove disputed\n",
    "gdf_inland_water.set_index(\"ISO_Ter1\",inplace=True)\n",
    "\n",
    "gdf_eez.set_index(\"ISO_Ter1\",inplace=True)\n",
    "df_eez = gdf_eez.reset_index().groupby('ISO_Ter1')[\"Area_km2\"].sum().to_frame()\n",
    "df_eez.columns = ['eez_area_km2']\n",
    "df_eez.loc['DNK','eez_area_km2'] += df_eez.loc['GRL','eez_area_km2']\n",
    "gdf_world=gdf_world.join(df_eez,on=\"POL_C_CODE\") # add EEZ to our dataframe\n",
    "\n",
    "df_int_water = gdf_inland_water.groupby('ISO_Ter1')[\"Area_km2\"].sum().to_frame()\n",
    "df_int_water.columns = ['int_water_km2']\n",
    "df_int_water.loc['DNK','int_water_km2'] += df_int_water.loc['GRL','int_water_km2']\n",
    "gdf_world=gdf_world.join(df_int_water,on=\"POL_C_CODE\") # add inland water to our dataframe"
   ]
  },
  {
   "cell_type": "code",
   "execution_count": 6,
   "metadata": {},
   "outputs": [
    {
     "data": {
      "text/plain": [
       "264"
      ]
     },
     "execution_count": 6,
     "metadata": {},
     "output_type": "execute_result"
    }
   ],
   "source": [
    "df_surface_area = pd.read_csv( os.path.join( datadir ,  'WB\\API_AG.LND.TOTL.K2_DS2_en_csv_v2_10578310.csv'),skiprows=4)\n",
    "df_surface_area = df_surface_area.set_index(\"Country Code\")\n",
    "df_surface_area.loc['DNK','2017'] += df_surface_area.loc['GRL','2017'] # combine Denmark and Greenland\n",
    "df_surface_area = df_surface_area[[\"Country Name\",\"2017\"]].rename(columns={\"2017\":\"surface_area_km2_wb\"})\n",
    "len(df_surface_area)"
   ]
  },
  {
   "cell_type": "code",
   "execution_count": 7,
   "metadata": {},
   "outputs": [
    {
     "data": {
      "text/html": [
       "<div>\n",
       "<style scoped>\n",
       "    .dataframe tbody tr th:only-of-type {\n",
       "        vertical-align: middle;\n",
       "    }\n",
       "\n",
       "    .dataframe tbody tr th {\n",
       "        vertical-align: top;\n",
       "    }\n",
       "\n",
       "    .dataframe thead th {\n",
       "        text-align: right;\n",
       "    }\n",
       "</style>\n",
       "<table border=\"1\" class=\"dataframe\">\n",
       "  <thead>\n",
       "    <tr style=\"text-align: right;\">\n",
       "      <th></th>\n",
       "      <th>STATUS</th>\n",
       "      <th>TERR_NAME</th>\n",
       "      <th>geometry</th>\n",
       "      <th>surface_area_km2_comp</th>\n",
       "      <th>surface_area_km2_wb</th>\n",
       "      <th>surface_area_total_km2</th>\n",
       "      <th>eez_area_km2</th>\n",
       "      <th>int_water_km2</th>\n",
       "    </tr>\n",
       "    <tr>\n",
       "      <th>POL_C_CODE</th>\n",
       "      <th></th>\n",
       "      <th></th>\n",
       "      <th></th>\n",
       "      <th></th>\n",
       "      <th></th>\n",
       "      <th></th>\n",
       "      <th></th>\n",
       "      <th></th>\n",
       "    </tr>\n",
       "  </thead>\n",
       "  <tbody>\n",
       "    <tr>\n",
       "      <th>AFG</th>\n",
       "      <td>WMO Member</td>\n",
       "      <td>Afghanistan</td>\n",
       "      <td>POLYGON ((71.26610 37.98232, 71.25214 37.92794...</td>\n",
       "      <td>6.419079e+05</td>\n",
       "      <td>652860.0</td>\n",
       "      <td>652860.0</td>\n",
       "      <td>NaN</td>\n",
       "      <td>NaN</td>\n",
       "    </tr>\n",
       "    <tr>\n",
       "      <th>AGO</th>\n",
       "      <td>WMO Member</td>\n",
       "      <td>Angola</td>\n",
       "      <td>MULTIPOLYGON (((13.99750 -5.84861, 14.08028 -5...</td>\n",
       "      <td>1.247366e+06</td>\n",
       "      <td>1246700.0</td>\n",
       "      <td>1745798.0</td>\n",
       "      <td>497800.0</td>\n",
       "      <td>1298.0</td>\n",
       "    </tr>\n",
       "  </tbody>\n",
       "</table>\n",
       "</div>"
      ],
      "text/plain": [
       "                STATUS    TERR_NAME  \\\n",
       "POL_C_CODE                            \n",
       "AFG         WMO Member  Afghanistan   \n",
       "AGO         WMO Member       Angola   \n",
       "\n",
       "                                                     geometry  \\\n",
       "POL_C_CODE                                                      \n",
       "AFG         POLYGON ((71.26610 37.98232, 71.25214 37.92794...   \n",
       "AGO         MULTIPOLYGON (((13.99750 -5.84861, 14.08028 -5...   \n",
       "\n",
       "            surface_area_km2_comp  surface_area_km2_wb  \\\n",
       "POL_C_CODE                                               \n",
       "AFG                  6.419079e+05             652860.0   \n",
       "AGO                  1.247366e+06            1246700.0   \n",
       "\n",
       "            surface_area_total_km2  eez_area_km2  int_water_km2  \n",
       "POL_C_CODE                                                       \n",
       "AFG                       652860.0           NaN            NaN  \n",
       "AGO                      1745798.0      497800.0         1298.0  "
      ]
     },
     "execution_count": 7,
     "metadata": {},
     "output_type": "execute_result"
    }
   ],
   "source": [
    "# add computed and World Bank land area size and create totals\n",
    "gdf_world_area=gdf_world.join((gdf_world.to_crs(\"+proj=eqearth\").area/10**6).to_frame().rename(columns={0:\"surface_area_km2_comp\"}))\n",
    "gdf_world_area=gdf_world_area.join(df_surface_area,on=\"POL_C_CODE\")\n",
    "# no WB data for South Sudan and Sudan.. use GIS calculated values \n",
    "sdn_idx = gdf_world_area.POL_C_CODE.isin([\"SDN\",\"SSD\"])\n",
    "gdf_world_area.loc[sdn_idx,\"surface_area_km2_wb\"] = gdf_world_area.loc[sdn_idx,\"surface_area_km2_comp\"]\n",
    "\n",
    "gdf_world_area[\"surface_area_total_km2\"] = gdf_world_area[[\"surface_area_km2_wb\",\"eez_area_km2\",\"int_water_km2\"]].sum(axis=1) \n",
    "gdf_world_area=gdf_world_area[[\"STATUS\",\"TERR_NAME\",\"POL_C_CODE\",\"geometry\",\"surface_area_km2_comp\",\"surface_area_km2_wb\",\"surface_area_total_km2\",\"eez_area_km2\",\"int_water_km2\"]]\n",
    "gdf_world_area=gdf_world_area.set_index(\"POL_C_CODE\")\n",
    "gdf_world_area.head(2)"
   ]
  },
  {
   "cell_type": "code",
   "execution_count": 8,
   "metadata": {},
   "outputs": [
    {
     "ename": "ValueError",
     "evalue": "Expected object or value",
     "output_type": "error",
     "traceback": [
      "\u001b[1;31m---------------------------------------------------------------------------\u001b[0m",
      "\u001b[1;31mValueError\u001b[0m                                Traceback (most recent call last)",
      "\u001b[1;32m<ipython-input-8-b05a14353b58>\u001b[0m in \u001b[0;36m<module>\u001b[1;34m\u001b[0m\n\u001b[1;32m----> 1\u001b[1;33m \u001b[0mdf_stations\u001b[0m \u001b[1;33m=\u001b[0m \u001b[0mpd\u001b[0m\u001b[1;33m.\u001b[0m\u001b[0mread_json\u001b[0m\u001b[1;33m(\u001b[0m\u001b[1;34m\"station.json\"\u001b[0m\u001b[1;33m)\u001b[0m\u001b[1;33m\u001b[0m\u001b[1;33m\u001b[0m\u001b[0m\n\u001b[0m\u001b[0;32m      2\u001b[0m \u001b[0mgeometry\u001b[0m \u001b[1;33m=\u001b[0m \u001b[1;33m[\u001b[0m\u001b[0mPoint\u001b[0m\u001b[1;33m(\u001b[0m\u001b[0mxy\u001b[0m\u001b[1;33m)\u001b[0m \u001b[1;32mfor\u001b[0m \u001b[0mxy\u001b[0m \u001b[1;32min\u001b[0m \u001b[0mzip\u001b[0m\u001b[1;33m(\u001b[0m\u001b[0mdf_stations\u001b[0m\u001b[1;33m.\u001b[0m\u001b[0mlongitude\u001b[0m \u001b[1;33m,\u001b[0m \u001b[0mdf_stations\u001b[0m\u001b[1;33m.\u001b[0m\u001b[0mlatitude\u001b[0m\u001b[1;33m)\u001b[0m\u001b[1;33m]\u001b[0m\u001b[1;33m\u001b[0m\u001b[1;33m\u001b[0m\u001b[0m\n\u001b[0;32m      3\u001b[0m \u001b[0mcrs\u001b[0m \u001b[1;33m=\u001b[0m  \u001b[1;34m'epsg:4326'\u001b[0m\u001b[1;33m\u001b[0m\u001b[1;33m\u001b[0m\u001b[0m\n\u001b[0;32m      4\u001b[0m \u001b[0mgdf_stations\u001b[0m \u001b[1;33m=\u001b[0m \u001b[0mgpd\u001b[0m\u001b[1;33m.\u001b[0m\u001b[0mGeoDataFrame\u001b[0m\u001b[1;33m(\u001b[0m\u001b[0mdf_stations\u001b[0m\u001b[1;33m,\u001b[0m \u001b[0mcrs\u001b[0m\u001b[1;33m=\u001b[0m\u001b[0mcrs\u001b[0m\u001b[1;33m,\u001b[0m \u001b[0mgeometry\u001b[0m\u001b[1;33m=\u001b[0m\u001b[0mgeometry\u001b[0m\u001b[1;33m)\u001b[0m\u001b[1;33m\u001b[0m\u001b[1;33m\u001b[0m\u001b[0m\n\u001b[0;32m      5\u001b[0m \u001b[0mlen\u001b[0m\u001b[1;33m(\u001b[0m\u001b[0mgdf_stations\u001b[0m\u001b[1;33m)\u001b[0m\u001b[1;33m\u001b[0m\u001b[1;33m\u001b[0m\u001b[0m\n",
      "\u001b[1;32m~\\Anaconda3\\envs\\workenv\\lib\\site-packages\\pandas\\io\\json\\_json.py\u001b[0m in \u001b[0;36mread_json\u001b[1;34m(path_or_buf, orient, typ, dtype, convert_axes, convert_dates, keep_default_dates, numpy, precise_float, date_unit, encoding, lines, chunksize, compression)\u001b[0m\n\u001b[0;32m    590\u001b[0m         \u001b[1;32mreturn\u001b[0m \u001b[0mjson_reader\u001b[0m\u001b[1;33m\u001b[0m\u001b[1;33m\u001b[0m\u001b[0m\n\u001b[0;32m    591\u001b[0m \u001b[1;33m\u001b[0m\u001b[0m\n\u001b[1;32m--> 592\u001b[1;33m     \u001b[0mresult\u001b[0m \u001b[1;33m=\u001b[0m \u001b[0mjson_reader\u001b[0m\u001b[1;33m.\u001b[0m\u001b[0mread\u001b[0m\u001b[1;33m(\u001b[0m\u001b[1;33m)\u001b[0m\u001b[1;33m\u001b[0m\u001b[1;33m\u001b[0m\u001b[0m\n\u001b[0m\u001b[0;32m    593\u001b[0m     \u001b[1;32mif\u001b[0m \u001b[0mshould_close\u001b[0m\u001b[1;33m:\u001b[0m\u001b[1;33m\u001b[0m\u001b[1;33m\u001b[0m\u001b[0m\n\u001b[0;32m    594\u001b[0m         \u001b[1;32mtry\u001b[0m\u001b[1;33m:\u001b[0m\u001b[1;33m\u001b[0m\u001b[1;33m\u001b[0m\u001b[0m\n",
      "\u001b[1;32m~\\Anaconda3\\envs\\workenv\\lib\\site-packages\\pandas\\io\\json\\_json.py\u001b[0m in \u001b[0;36mread\u001b[1;34m(self)\u001b[0m\n\u001b[0;32m    715\u001b[0m             \u001b[0mobj\u001b[0m \u001b[1;33m=\u001b[0m \u001b[0mself\u001b[0m\u001b[1;33m.\u001b[0m\u001b[0m_get_object_parser\u001b[0m\u001b[1;33m(\u001b[0m\u001b[0mself\u001b[0m\u001b[1;33m.\u001b[0m\u001b[0m_combine_lines\u001b[0m\u001b[1;33m(\u001b[0m\u001b[0mdata\u001b[0m\u001b[1;33m.\u001b[0m\u001b[0msplit\u001b[0m\u001b[1;33m(\u001b[0m\u001b[1;34m\"\\n\"\u001b[0m\u001b[1;33m)\u001b[0m\u001b[1;33m)\u001b[0m\u001b[1;33m)\u001b[0m\u001b[1;33m\u001b[0m\u001b[1;33m\u001b[0m\u001b[0m\n\u001b[0;32m    716\u001b[0m         \u001b[1;32melse\u001b[0m\u001b[1;33m:\u001b[0m\u001b[1;33m\u001b[0m\u001b[1;33m\u001b[0m\u001b[0m\n\u001b[1;32m--> 717\u001b[1;33m             \u001b[0mobj\u001b[0m \u001b[1;33m=\u001b[0m \u001b[0mself\u001b[0m\u001b[1;33m.\u001b[0m\u001b[0m_get_object_parser\u001b[0m\u001b[1;33m(\u001b[0m\u001b[0mself\u001b[0m\u001b[1;33m.\u001b[0m\u001b[0mdata\u001b[0m\u001b[1;33m)\u001b[0m\u001b[1;33m\u001b[0m\u001b[1;33m\u001b[0m\u001b[0m\n\u001b[0m\u001b[0;32m    718\u001b[0m         \u001b[0mself\u001b[0m\u001b[1;33m.\u001b[0m\u001b[0mclose\u001b[0m\u001b[1;33m(\u001b[0m\u001b[1;33m)\u001b[0m\u001b[1;33m\u001b[0m\u001b[1;33m\u001b[0m\u001b[0m\n\u001b[0;32m    719\u001b[0m         \u001b[1;32mreturn\u001b[0m \u001b[0mobj\u001b[0m\u001b[1;33m\u001b[0m\u001b[1;33m\u001b[0m\u001b[0m\n",
      "\u001b[1;32m~\\Anaconda3\\envs\\workenv\\lib\\site-packages\\pandas\\io\\json\\_json.py\u001b[0m in \u001b[0;36m_get_object_parser\u001b[1;34m(self, json)\u001b[0m\n\u001b[0;32m    737\u001b[0m         \u001b[0mobj\u001b[0m \u001b[1;33m=\u001b[0m \u001b[1;32mNone\u001b[0m\u001b[1;33m\u001b[0m\u001b[1;33m\u001b[0m\u001b[0m\n\u001b[0;32m    738\u001b[0m         \u001b[1;32mif\u001b[0m \u001b[0mtyp\u001b[0m \u001b[1;33m==\u001b[0m \u001b[1;34m\"frame\"\u001b[0m\u001b[1;33m:\u001b[0m\u001b[1;33m\u001b[0m\u001b[1;33m\u001b[0m\u001b[0m\n\u001b[1;32m--> 739\u001b[1;33m             \u001b[0mobj\u001b[0m \u001b[1;33m=\u001b[0m \u001b[0mFrameParser\u001b[0m\u001b[1;33m(\u001b[0m\u001b[0mjson\u001b[0m\u001b[1;33m,\u001b[0m \u001b[1;33m**\u001b[0m\u001b[0mkwargs\u001b[0m\u001b[1;33m)\u001b[0m\u001b[1;33m.\u001b[0m\u001b[0mparse\u001b[0m\u001b[1;33m(\u001b[0m\u001b[1;33m)\u001b[0m\u001b[1;33m\u001b[0m\u001b[1;33m\u001b[0m\u001b[0m\n\u001b[0m\u001b[0;32m    740\u001b[0m \u001b[1;33m\u001b[0m\u001b[0m\n\u001b[0;32m    741\u001b[0m         \u001b[1;32mif\u001b[0m \u001b[0mtyp\u001b[0m \u001b[1;33m==\u001b[0m \u001b[1;34m\"series\"\u001b[0m \u001b[1;32mor\u001b[0m \u001b[0mobj\u001b[0m \u001b[1;32mis\u001b[0m \u001b[1;32mNone\u001b[0m\u001b[1;33m:\u001b[0m\u001b[1;33m\u001b[0m\u001b[1;33m\u001b[0m\u001b[0m\n",
      "\u001b[1;32m~\\Anaconda3\\envs\\workenv\\lib\\site-packages\\pandas\\io\\json\\_json.py\u001b[0m in \u001b[0;36mparse\u001b[1;34m(self)\u001b[0m\n\u001b[0;32m    847\u001b[0m \u001b[1;33m\u001b[0m\u001b[0m\n\u001b[0;32m    848\u001b[0m         \u001b[1;32melse\u001b[0m\u001b[1;33m:\u001b[0m\u001b[1;33m\u001b[0m\u001b[1;33m\u001b[0m\u001b[0m\n\u001b[1;32m--> 849\u001b[1;33m             \u001b[0mself\u001b[0m\u001b[1;33m.\u001b[0m\u001b[0m_parse_no_numpy\u001b[0m\u001b[1;33m(\u001b[0m\u001b[1;33m)\u001b[0m\u001b[1;33m\u001b[0m\u001b[1;33m\u001b[0m\u001b[0m\n\u001b[0m\u001b[0;32m    850\u001b[0m \u001b[1;33m\u001b[0m\u001b[0m\n\u001b[0;32m    851\u001b[0m         \u001b[1;32mif\u001b[0m \u001b[0mself\u001b[0m\u001b[1;33m.\u001b[0m\u001b[0mobj\u001b[0m \u001b[1;32mis\u001b[0m \u001b[1;32mNone\u001b[0m\u001b[1;33m:\u001b[0m\u001b[1;33m\u001b[0m\u001b[1;33m\u001b[0m\u001b[0m\n",
      "\u001b[1;32m~\\Anaconda3\\envs\\workenv\\lib\\site-packages\\pandas\\io\\json\\_json.py\u001b[0m in \u001b[0;36m_parse_no_numpy\u001b[1;34m(self)\u001b[0m\n\u001b[0;32m   1091\u001b[0m         \u001b[1;32mif\u001b[0m \u001b[0morient\u001b[0m \u001b[1;33m==\u001b[0m \u001b[1;34m\"columns\"\u001b[0m\u001b[1;33m:\u001b[0m\u001b[1;33m\u001b[0m\u001b[1;33m\u001b[0m\u001b[0m\n\u001b[0;32m   1092\u001b[0m             self.obj = DataFrame(\n\u001b[1;32m-> 1093\u001b[1;33m                 \u001b[0mloads\u001b[0m\u001b[1;33m(\u001b[0m\u001b[0mjson\u001b[0m\u001b[1;33m,\u001b[0m \u001b[0mprecise_float\u001b[0m\u001b[1;33m=\u001b[0m\u001b[0mself\u001b[0m\u001b[1;33m.\u001b[0m\u001b[0mprecise_float\u001b[0m\u001b[1;33m)\u001b[0m\u001b[1;33m,\u001b[0m \u001b[0mdtype\u001b[0m\u001b[1;33m=\u001b[0m\u001b[1;32mNone\u001b[0m\u001b[1;33m\u001b[0m\u001b[1;33m\u001b[0m\u001b[0m\n\u001b[0m\u001b[0;32m   1094\u001b[0m             )\n\u001b[0;32m   1095\u001b[0m         \u001b[1;32melif\u001b[0m \u001b[0morient\u001b[0m \u001b[1;33m==\u001b[0m \u001b[1;34m\"split\"\u001b[0m\u001b[1;33m:\u001b[0m\u001b[1;33m\u001b[0m\u001b[1;33m\u001b[0m\u001b[0m\n",
      "\u001b[1;31mValueError\u001b[0m: Expected object or value"
     ]
    }
   ],
   "source": [
    "df_stations = pd.read_json(\"station.json\")\n",
    "geometry = [Point(xy) for xy in zip(df_stations.longitude , df_stations.latitude)]\n",
    "crs =  'epsg:4326' \n",
    "gdf_stations = gpd.GeoDataFrame(df_stations, crs=crs, geometry=geometry)\n",
    "len(gdf_stations)"
   ]
  },
  {
   "cell_type": "code",
   "execution_count": null,
   "metadata": {},
   "outputs": [],
   "source": [
    "# compute crude country level HR ( land area / nr stations  )\n",
    "stations_by_country = gpd.sjoin(gdf_world_area.reset_index(),gdf_stations,op=\"contains\",how=\"inner\").groupby(\"POL_C_CODE\").TERR_NAME.count().to_frame()\n",
    "stations_by_country = stations_by_country.rename(columns={\"TERR_NAME\":\"nr_stations\"})\n",
    "gdf_world_area_stations = gdf_world_area.join(stations_by_country)\n",
    "gdf_world_area_stations[\"HR\"] = np.sqrt(gdf_world_area_stations.surface_area_km2_wb) / np.sqrt(gdf_world_area_stations.nr_stations)\n",
    "gdf_world_area_stations.sort_values(\"HR\",ascending=True)[[\"TERR_NAME\",\"HR\",\"nr_stations\",\"surface_area_total_km2\"]].head()"
   ]
  },
  {
   "cell_type": "code",
   "execution_count": null,
   "metadata": {},
   "outputs": [],
   "source": [
    "missing = {   \"color\": \"lightgrey\", \"edgecolor\": \"red\",\n",
    "               \"hatch\": \"///\", \"label\": \"Missing values\" }\n",
    "\n",
    "min_hr = gdf_world_area_stations.HR.min()\n",
    "max_hr = gdf_world_area_stations.HR.max()\n",
    "\n",
    "idx_missing = gdf_world_area_stations.HR.isna()\n",
    "ax=gdf_world_area_stations[~idx_missing].to_crs(\"+proj=eqearth\").plot(column=\"HR\", legend=True, vmin=min_hr, vmax=max_hr, figsize=(20,10))\n",
    "gdf_world_area_stations[idx_missing].to_crs(\"+proj=eqearth\").plot(ax=ax, **missing)\n",
    "\n",
    "#missing_kwds=missing\n",
    "\n",
    "# add EEZ\n",
    "gdf_eez_plus = gdf_eez.join(gdf_world_area_stations[[\"HR\",]],how='inner')\n",
    "idx_missing = gdf_eez_plus.HR.isna()\n",
    "gdf_eez_plus[~idx_missing].to_crs(\"+proj=eqearth\").plot(column=\"HR\", legend=False, vmin=min_hr, vmax=max_hr, ax=ax)\n",
    "gdf_eez_plus[idx_missing].to_crs(\"+proj=eqearth\").plot(ax=ax,**missing)\n",
    "\n",
    "\n",
    "ax.set_title(\"Horizontal Resolution by Country, including EEZ\", fontsize=25)"
   ]
  },
  {
   "cell_type": "code",
   "execution_count": null,
   "metadata": {},
   "outputs": [],
   "source": [
    "gdf_world_area_stations[gdf_world_area_stations.HR.isna()][[\"TERR_NAME\",\"HR\",\"nr_stations\",\"surface_area_total_km2\"]]"
   ]
  },
  {
   "cell_type": "code",
   "execution_count": null,
   "metadata": {},
   "outputs": [],
   "source": [
    "# eqearth "
   ]
  },
  {
   "cell_type": "code",
   "execution_count": null,
   "metadata": {},
   "outputs": [],
   "source": [
    "ax=gdf_world_area_stations.to_crs(\"+proj=eqearth\").plot(column=\"HR\" , figsize=(20,10))\n",
    "grid.to_crs(\"+proj=eqearth\").plot(ax=ax,facecolor=\"none\",edgecolor=\"black\", linewidth=0.1)\n",
    "gdf_stations.to_crs(\"+proj=eqearth\").plot(ax=ax,color=\"red\",markersize=0.5)"
   ]
  },
  {
   "cell_type": "markdown",
   "metadata": {},
   "source": [
    "# BF only"
   ]
  },
  {
   "cell_type": "code",
   "execution_count": null,
   "metadata": {},
   "outputs": [],
   "source": [
    "gdf_bf = gdf_world[gdf_world.TERR_NAME.str.contains(\"Faso\")]\n",
    "grid_bf = gpd.sjoin(grid,gdf_bf,op=\"intersects\",how=\"inner\")\n",
    "stations_bf  = gpd.sjoin(gdf_stations,gdf_bf,op=\"intersects\",how=\"inner\")"
   ]
  },
  {
   "cell_type": "code",
   "execution_count": null,
   "metadata": {},
   "outputs": [],
   "source": [
    "ax=gdf_bf.plot()\n",
    "grid_bf.plot(ax=ax,facecolor=\"none\",edgecolor=\"black\", linewidth=0.1)\n",
    "stations_bf.plot(ax=ax,color=\"red\",markersize=5)\n",
    "ax.set_title(\"Burkina Faso with 1 degree grid and stations\", fontsize=14)"
   ]
  },
  {
   "cell_type": "markdown",
   "metadata": {},
   "source": [
    "# join stations and countries"
   ]
  },
  {
   "cell_type": "code",
   "execution_count": null,
   "metadata": {},
   "outputs": [],
   "source": [
    "gpd.sjoin(gdf_world_area.reset_index(),gdf_stations,op=\"contains\",how=\"inner\").groupby(\"POL_C_CODE\").TERR_NAME.count().sort_values(ascending=False).head(10)"
   ]
  },
  {
   "cell_type": "code",
   "execution_count": null,
   "metadata": {},
   "outputs": [],
   "source": [
    "gdf_stations.groupby(\"territory\").region.count().sort_values(ascending=False).head(10)"
   ]
  },
  {
   "cell_type": "markdown",
   "metadata": {},
   "source": [
    "# radius"
   ]
  },
  {
   "cell_type": "code",
   "execution_count": null,
   "metadata": {},
   "outputs": [],
   "source": [
    "def make_circle(x,y,radius):\n",
    "    point = Point(x, y)\n",
    "\n",
    "    local_azimuthal_projection = f\"+proj=aeqd +R=6371000 +units=m +lat_0={point.y} +lon_0={point.x}\"\n",
    "\n",
    "    wgs84_to_aeqd = partial(\n",
    "        pyproj.transform,\n",
    "        pyproj.Proj('+proj=longlat +datum=WGS84 +no_defs'),\n",
    "        pyproj.Proj(local_azimuthal_projection),\n",
    "    )\n",
    "\n",
    "    aeqd_to_wgs84 = partial(\n",
    "        pyproj.transform,\n",
    "        pyproj.Proj(local_azimuthal_projection),\n",
    "        pyproj.Proj('+proj=longlat +datum=WGS84 +no_defs'),\n",
    "    )\n",
    "\n",
    "    point_transformed = transform(wgs84_to_aeqd, point)\n",
    "    buffer = point_transformed.buffer(radius)\n",
    "    buffer_wgs84 = transform(aeqd_to_wgs84, buffer)\n",
    "\n",
    "    return buffer_wgs84\n",
    "\n",
    "\n",
    "newdata = gpd.GeoDataFrame()\n",
    "newdata['geometry'] = None\n",
    "newdata.crs = \"epsg:4326\"\n",
    "\n",
    "for i,row in stations_bf.iterrows():   \n",
    "    circle = make_circle(row[\"longitude\"],row[\"latitude\"],100_100)\n",
    "    newdata.loc[i-1, 'geometry'] = circle\n",
    "   \n",
    "ax=gdf_bf.plot()\n",
    "newdata.plot(ax=ax,color=\"red\",alpha=0.5)\n",
    "ax.set_title(\"Burkina Faso covered by stations with 100km radius\",fontsize=12)"
   ]
  },
  {
   "cell_type": "markdown",
   "metadata": {},
   "source": [
    "# density of RA I"
   ]
  },
  {
   "cell_type": "code",
   "execution_count": null,
   "metadata": {},
   "outputs": [],
   "source": [
    "data = requests.get(\"https://cpdb.wmo.int/data/members.json\",verify=False).json()\n",
    "\n",
    "df_wmo_members = pd.read_json( json.dumps(data[\"countries\"])  ).transpose().set_index(\"id\")\n",
    "df_wmo_members"
   ]
  },
  {
   "cell_type": "code",
   "execution_count": null,
   "metadata": {},
   "outputs": [],
   "source": [
    "gdf_world_area_stations_region = gdf_world_area_stations.join(df_wmo_members[\"wmo_region_id\"])\n",
    "gdf_africa = gdf_world_area_stations_region[gdf_world_area_stations_region.wmo_region_id == \"I\"]\n",
    "\n",
    "gdf_african_stations = gpd.sjoin(gdf_stations,gdf_africa,op=\"intersects\",how=\"inner\")"
   ]
  },
  {
   "cell_type": "code",
   "execution_count": null,
   "metadata": {},
   "outputs": [],
   "source": [
    "ax=gdf_africa.to_crs(\"+proj=eqearth\").plot(figsize=(15,10))\n",
    "gdf_african_stations.to_crs(\"+proj=eqearth\").plot(ax=ax,color=\"red\")"
   ]
  },
  {
   "cell_type": "code",
   "execution_count": null,
   "metadata": {},
   "outputs": [],
   "source": [
    "ax= geoplot.kdeplot(\n",
    "        gdf_african_stations, \n",
    "        shade=True, cmap='Reds', figsize=(10,10)\n",
    "          )\n",
    "\n",
    "geoplot.polyplot(gdf_africa, ax=ax, zorder=1)\n",
    "\n",
    "ax.set_title(\"Kernel Density Estimation of HR of RA I\" ,fontsize=15)"
   ]
  },
  {
   "cell_type": "markdown",
   "metadata": {},
   "source": [
    "# KDE with sklearn\n",
    "using a more low level library we can better access crucial parameters \n",
    "I am using a different basemap for convenience here (can be changed later)\n"
   ]
  },
  {
   "cell_type": "code",
   "execution_count": null,
   "metadata": {},
   "outputs": [],
   "source": [
    "import json\n",
    "import numpy as np\n",
    "import matplotlib.pyplot as plt\n",
    "\n",
    "from sklearn.neighbors import KernelDensity\n",
    "from mpl_toolkits.basemap import Basemap\n"
   ]
  },
  {
   "cell_type": "code",
   "execution_count": null,
   "metadata": {},
   "outputs": [],
   "source": [
    "def construct_grids(data,width=0.05,borderspace=5):\n",
    "    y_min = data[:,0].min() - borderspace\n",
    "    y_max = data[:,0].max() + borderspace\n",
    "\n",
    "    x_min = data[:,1].min() - borderspace\n",
    "    x_max = data[:,1].max() + borderspace\n",
    "\n",
    "    x_steps = (x_max-x_min) / width\n",
    "    y_steps = (y_max-y_min) / width\n",
    "    \n",
    "    xgrid = np.linspace(x_min,x_max,x_steps)\n",
    "    ygrid = np.linspace(y_min,y_max,y_steps)\n",
    "    \n",
    "    return [xgrid,ygrid]"
   ]
  },
  {
   "cell_type": "code",
   "execution_count": null,
   "metadata": {},
   "outputs": [],
   "source": [
    "latlong=np.array([ [s[\"latitude\"],s[\"longitude\"]] for s in json.load(open(\"station.json\",encoding=\"utf8\")) if \"region\" in s and s[\"region\"] == \"Africa\" ])\n",
    "xgrid, ygrid = construct_grids(latlong)\n",
    "X, Y = np.meshgrid(xgrid[::5], ygrid[::5][::-1])\n",
    "xy = np.vstack([Y.ravel(), X.ravel()]).T\n",
    "xy = np.radians(xy) # no land mask"
   ]
  },
  {
   "cell_type": "code",
   "execution_count": null,
   "metadata": {},
   "outputs": [],
   "source": [
    "# distance as measured by haversine. Multiply by 6371000/1000 to get distaince in km\n",
    "HR = 200\n",
    "bandwidth = (HR)  / 6371 #  6371 being the radius of the earth\n",
    "\n",
    "cmap = 'Reds'\n",
    "\n",
    "\n",
    "fig,ax=plt.subplots(1,2,figsize=(20,8))\n",
    "# plot coastlines with basemap\n",
    "ax[0].set_title(\"RA-I density with tophat kernel and HR {} km\".format(HR))\n",
    "m = Basemap(projection='cyl', llcrnrlat=Y.min(),\n",
    "            urcrnrlat=Y.max(), llcrnrlon=X.min(),\n",
    "            urcrnrlon=X.max(), resolution='c', ax=ax[0])\n",
    "m.drawmapboundary(fill_color='#DDEEFF')\n",
    "m.drawcoastlines()\n",
    "m.drawcountries()\n",
    "\n",
    "# construct a spherical kernel density estimate of the distribution\n",
    "kde = KernelDensity(bandwidth=bandwidth, kernel=\"tophat\" , metric='haversine')\n",
    "kde.fit(np.radians(latlong))\n",
    "\n",
    "total_samples = len(xy)\n",
    "#Z = kde.score_samples(xy)\n",
    "Z = np.exp(kde.score_samples(xy))\n",
    "\n",
    "Z = Z.reshape(X.shape)\n",
    "\n",
    "# plot contours of the density\n",
    "levels = np.linspace(0.01,Z.max(),10)\n",
    "\n",
    "cs3 = ax[0].contourf(X, Y, Z, levels=levels, cmap=cmap)\n",
    "#cs3 = ax[0].contourf(X, Y, Z,  cmap=cmap)\n",
    "\n",
    "fig.colorbar(cs3,ax=ax[0])\n",
    "\n",
    "# plot points for comparison\n",
    "m = Basemap(projection='cyl', resolution='c',\n",
    "            llcrnrlat=ygrid.min(), urcrnrlat=ygrid.max(),\n",
    "            llcrnrlon=xgrid.min(), urcrnrlon=xgrid.max(),ax=ax[1])\n",
    "m.drawmapboundary(fill_color='#DDEEFF')\n",
    "m.fillcontinents(color='#FFEEDD')\n",
    "m.drawcoastlines(color='gray', zorder=2)\n",
    "m.drawcountries(color='gray', zorder=2)\n",
    "\n",
    "# plot locations\n",
    "m.scatter(latlong[:, 1], latlong[:, 0], zorder=3, s=2,\n",
    "           cmap='rainbow', latlon=True);\n",
    "\n",
    "ax[1].set_title(\"RA-I stations\")"
   ]
  }
 ],
 "metadata": {
  "kernelspec": {
   "display_name": "Python 3",
   "language": "python",
   "name": "python3"
  }
 },
 "nbformat": 4,
 "nbformat_minor": 2
}
